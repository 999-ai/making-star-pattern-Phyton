{
 "cells": [
  {
   "cell_type": "code",
   "execution_count": null,
   "id": "3e9f0813-1362-4d88-91d2-ecb19c73a872",
   "metadata": {},
   "outputs": [],
   "source": [
    "number=int(input(\"go for a number\"))\n",
    "counter=0\n",
    "for item in range(1,number):\n",
    " if number%item==0:\n",
    "  counter=counter+item\n",
    "print(counter)\n",
    "if number==counter:\n",
    "    print(number,\"is perfect number\")\n",
    "else:\n",
    "    print(number,\"is not perfect number\")"
   ]
  }
 ],
 "metadata": {
  "kernelspec": {
   "display_name": "Python 3 (ipykernel)",
   "language": "python",
   "name": "python3"
  },
  "language_info": {
   "codemirror_mode": {
    "name": "ipython",
    "version": 3
   },
   "file_extension": ".py",
   "mimetype": "text/x-python",
   "name": "python",
   "nbconvert_exporter": "python",
   "pygments_lexer": "ipython3",
   "version": "3.12.4"
  }
 },
 "nbformat": 4,
 "nbformat_minor": 5
}
